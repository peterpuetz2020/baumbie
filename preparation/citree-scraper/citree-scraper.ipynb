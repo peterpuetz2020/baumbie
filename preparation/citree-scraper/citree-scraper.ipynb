{
 "cells": [
  {
   "cell_type": "markdown",
   "id": "d1c85371",
   "metadata": {},
   "source": [
    "# CiTree Scraper\n",
    "\n",
    "[CiTree](https://citree.de/) stellt Informationen über verschiedene Baumarten bereit. Um diese Daten zu verarbeiten, müssen wir sie einmalig herunterladen und aufbereiten. Da wir keinen Datenbank-Dump erhalten, haben wir die Daten mit diesem Notebook heruntergeladen und aufbereitet."
   ]
  },
  {
   "cell_type": "markdown",
   "id": "739f9a5c",
   "metadata": {},
   "source": [
    "## Download der Baumarten\n",
    "\n",
    "Da CiTree keine API bereitstellt, um strukturierte Daten im JSON-Format abzurufen, müssen wir diese Daten selbst aufbereiten. Hierfür laden wir im ersten Schritt die Daten herunter und legen sie lokal ab. Hierbei handelt es sich um partielle HTML-Dateien, die auf der Webseite angezeigt werden."
   ]
  },
  {
   "cell_type": "markdown",
   "id": "6f6f5fa5",
   "metadata": {},
   "source": [
    "## Lizenzen\n",
    "\n",
    "Die Inhalte der Website unterliegen der [Creative-Commons-Lizenz BY-NC-SA 4.0](https://creativecommons.org/licenses/by-nc-sa/4.0/deed.de). Das beduetet, wir dürfen sie nichtkommerziell weiterverwenden, aber mit Namensnennung."
   ]
  },
  {
   "cell_type": "code",
   "execution_count": null,
   "id": "bf217503",
   "metadata": {},
   "outputs": [
    {
     "name": "stderr",
     "output_type": "stream",
     "text": [
      "100%|██████████| 2/2 [00:01<00:00,  1.51it/s]\n"
     ]
    }
   ],
   "source": [
    "from tqdm import tqdm\n",
    "import requests\n",
    "import os\n",
    "\n",
    "treeId = 1\n",
    "\n",
    "image_urls = set()\n",
    "\n",
    "if not os.path.exists(\"data\"):\n",
    "    os.makedirs(\"data\")\n",
    "\n",
    "for treeId in tqdm(range(1, 375)):\n",
    "    if os.path.exists(f\"data/{treeId}.html\"):\n",
    "        continue\n",
    "    URL = f\"https://citree.de/AJAX/getSteckbrief.php?ArtInfos=%7B%22ID%22%3A{treeId}%2C%22matched%22%3A%5B44%5D%2C%22unmatched%22%3A%5B0%5D%7D&language=de\"\n",
    "    response = requests.get(URL)\n",
    "    with open(f\"data/{treeId}.html\", \"w\") as f:\n",
    "        f.write(response.text)"
   ]
  },
  {
   "cell_type": "markdown",
   "id": "248db457",
   "metadata": {},
   "source": [
    "## Parsen der Attribute und Download von Bildern\n",
    "\n",
    "Im ersten Schritt müssen wir die verfügbaren Attribute der Bäume ermitteln. Hierfür iterieren wir einmal über alle heruntergeladenen Baumarten und suchen alle Attribute aus den HTML-Tabellen heraus.\n",
    "\n",
    "Außerdem werden in diesem Zuge auch die Bilder der jeweiligen Bäume in der höchsten verfügbaren Qualität heruntergeladen."
   ]
  },
  {
   "cell_type": "code",
   "execution_count": null,
   "id": "2c438cee",
   "metadata": {},
   "outputs": [
    {
     "name": "stderr",
     "output_type": "stream",
     "text": [
      "100%|██████████| 2/2 [00:00<00:00, 112.29it/s]"
     ]
    },
    {
     "name": "stdout",
     "output_type": "stream",
     "text": [
      "Klimabedingungen\n",
      "  - Lichtanspruch: Abschattung des Baumstandortes durch benachbarte Bäume oder Gebäude\n",
      "  - Trockenheitstoleranz: Gefährdung durch Luft-und Bodentrockenheit\n",
      "  - Hitzeverträglichkeit: Gefährdung durch Hitzebelastung\n",
      "  - Spätfrosttoleranz: Gebiete die als spätfrostgefährdet gelten sind Senken, Flussnähe, Freiflächen\n",
      "  - Winterhärtezone: Einteilung der Klimaregionen anhand der durchschnittlich kältesten Jahrestemperatur\n",
      "Bodenbedingungen\n",
      "  - pH-Wert: pH-Wert am Pflanzstandort\n",
      "  - Bodenverdichtungstoleranz: Risiko des Auftretens von Bodenverdichtung\n",
      "  - Staunässetoleranz: Risiko des Auftretens von Staunässe\n",
      "  - Salzverträglichkeit: Wie hoch ist die Salzbelastung\n",
      "  - Bodenfeuchtetoleranz: Bodenfeuchtigkeit am Standort\n",
      "  - Bodeneigenschaft: Substrat auf Pflanzenstandort\n",
      "  - Gründigkeit: Wie tief wurzelt die Baumart\n",
      "Natürliche Verbreitung\n",
      "  - Neophyt: Keine heimische Pflanze (wurde nach 1492 eingeführt)\n",
      "  - Herkunft: \n",
      "  - Natürlicher Lebensraum: Natürlicher Lebensraum der Pflanze\n",
      "Habitus\n",
      "  - Mehrstämmigkeit: Entwicklung mehrerer bodennaher Stämme möglich\n",
      "  - oberflächennahe Wurzeln: \n",
      "  - maximale Wuchshöhe: Die maximale Wuchshöhe eines ausgewachsenen Exemplares\n",
      "  - mittlere Wuchshöhe: Die mittlere Wuchshöhe eines ausgewachsenen Exemplares\n",
      "  - Kronendurchmesser: Der durchschnittliche Kronendurchmesser eines ausgewachsenen Exemplares\n",
      "  - Wuchsgeschwindigkeit: \n",
      "  - Kronendurchlässigkeit: Durchlässigkeit der Krone für Licht, Luft, Wasser\n",
      "  - Wuchsform: \n",
      "  - Wuchsrichtung: \n",
      "  - Kronenform: \n",
      "Blatt\n",
      "  - Belaubung: \n",
      "  - Blattform: \n",
      "  - Herbstfärbung: Blattfarbe im Herbst\n",
      "  - Baumgruppe: \n",
      "Blüte\n",
      "  - Blütenschmuck: Dekorative Blüten\n",
      "  - Duft: Angenehmer Geruch\n",
      "  - Blütezeit: \n",
      "  - Blütenfarbe: Farbe der Blüten\n",
      "  - Blütenstand: \n",
      "Frucht\n",
      "  - Fruchtschmuck: Dekorative Früchte\n",
      "  - Fruchtform: \n",
      "  - Fruchtfarbe: \n",
      "Gefährdung\n",
      "  - Schäden durch Wurzeln: Wurzeln können Schäden an umliegender Infrastruktur verursachen\n",
      "  - Allergiepotential: \n",
      "  - Astbruchgefahr: Wie hoch ist die Astbruchgefahr\n",
      "  - Invasionsgefahr: Gefahr der Verdrängung einheimischer Arten\n",
      "  - Giftigkeit: Das toxische Potential\n",
      "Beeinträchtigungen\n",
      "  - Störender Fruchtfall: Gefahr oder Beeinträchtigung durch fallende und herabgefallen Früchte (z.B. Rutschgefahr)\n",
      "  - Geruchsbelästigung: Geruchsbelästigung durch Blüten oder Früchte\n",
      "  - Dornen / Stacheln: Verletzungsgefahr\n"
     ]
    },
    {
     "name": "stderr",
     "output_type": "stream",
     "text": [
      "\n"
     ]
    }
   ],
   "source": [
    "from bs4 import BeautifulSoup\n",
    "from tqdm import tqdm\n",
    "import os\n",
    "\n",
    "attributes = {}\n",
    "\n",
    "if not os.path.exists(\"images\"):\n",
    "    os.makedirs(\"images\")\n",
    "\n",
    "for tree_id in tqdm(range(1, 366)):\n",
    "\n",
    "    with open(f\"data/{tree_id}.html\", \"r\") as f:\n",
    "        html_content = f.read()\n",
    "    soup = BeautifulSoup(html_content, 'html.parser')\n",
    "    \n",
    "    tree_image_urls = [i.get('src') for i in soup.find_all('img') if 'img/icons/ic_close_dark.png' not in i.get('src')]\n",
    "    for url in tree_image_urls:\n",
    "        if os.path.exists(f\"images/{url.split('/')[-1]}\"):\n",
    "            continue\n",
    "        large_image_url = url.replace(\"/640/\", \"/1024/\")\n",
    "        download_url = f\"https://citree.de/{large_image_url}\"\n",
    "        response = requests.get(download_url)\n",
    "        if response.status_code == 200:\n",
    "            with open(f\"images/{large_image_url.split('/')[-1]}\", \"wb\") as f:\n",
    "                f.write(response.content)\n",
    "\n",
    "    headlines = soup.find_all('h4')\n",
    "    for h in headlines:\n",
    "        # print(h.text.strip())\n",
    "\n",
    "        attribute_name = h.text.strip()\n",
    "\n",
    "        if attribute_name not in attributes:\n",
    "            attributes[attribute_name] = {}\n",
    "\n",
    "        table = h.next_sibling\n",
    "        for row in table.find_all('tr'):\n",
    "            if row.find('td').text.strip() not in attributes[attribute_name]:\n",
    "                attributes[attribute_name][row.find('td').text.strip()] = row['title']\n",
    "\n",
    "for a in attributes:\n",
    "    print(a)\n",
    "    for b in attributes[a]:\n",
    "        print(f\"  - {b}: {attributes[a][b]}\")\n"
   ]
  },
  {
   "cell_type": "markdown",
   "id": "36a3fc62",
   "metadata": {},
   "source": [
    "## Parsen der Baumdaten\n",
    "\n",
    "Anhand der ermittelten Attribute können wir die Baumdaten nun parsen."
   ]
  },
  {
   "cell_type": "code",
   "execution_count": null,
   "id": "82f144b8",
   "metadata": {},
   "outputs": [
    {
     "name": "stderr",
     "output_type": "stream",
     "text": [
      "100%|██████████| 2/2 [00:00<00:00, 37.72it/s]\n"
     ]
    }
   ],
   "source": [
    "from bs4 import BeautifulSoup\n",
    "import re\n",
    "\n",
    "trees = []\n",
    "\n",
    "for tree_id in tqdm(range(1, 366)):\n",
    "    tree_information = {}\n",
    "\n",
    "    tree_information['id'] = tree_id\n",
    "    \n",
    "    trivial_name_tag = soup.find('span', class_='name-trivial')\n",
    "    tree_information['name_trivial'] = trivial_name_tag.text.strip() if trivial_name_tag else None\n",
    "\n",
    "    botanic_name_tag = soup.find('span', class_='name-botanic')\n",
    "    tree_information['name_botanic'] = botanic_name_tag.text.strip() if botanic_name_tag else None\n",
    "\n",
    "    strain_tag = soup.find('div', class_='strain')\n",
    "    tree_information['strain'] = strain_tag.text.strip().replace(\"Sorte: \", \"\") if strain_tag else None\n",
    "\n",
    "    with open(f\"data/{tree_id}.html\", \"r\") as f:\n",
    "        html_content = f.read()\n",
    "    soup = BeautifulSoup(html_content, 'html.parser')\n",
    "    tree_information['id'] = tree_id\n",
    "    \n",
    "    trivial_name_tag = soup.find('span', class_='name-trivial')\n",
    "    tree_information['name_trivial'] = trivial_name_tag.text.strip() if trivial_name_tag else None\n",
    "\n",
    "    botanic_name_tag = soup.find('span', class_='name-botanic')\n",
    "    tree_information['name_botanic'] = botanic_name_tag.text.strip() if botanic_name_tag else None\n",
    "\n",
    "    strain_tag = soup.find('div', class_='strain')\n",
    "    tree_information['strain'] = strain_tag.text.strip().replace(\"Sorte: \", \"\").strip() if strain_tag else None\n",
    "\n",
    "    tree_image_urls = [a.get('href').replace(\"img/1024/\", \"\") for a in [i.parent for i in soup.find_all('img', class_=\"img-responsive\") if 'img/icons/ic_close_dark.png' not in i.get('src')]]\n",
    "    tree_information['images'] = tree_image_urls\n",
    "\n",
    "    for attribute_group in attributes:\n",
    "        for attribute in attributes[attribute_group]:\n",
    "\n",
    "            value = soup.find('td', string=re.compile(attribute)).find_next_sibling('td').text.strip()\n",
    "            if value == \"Nein\":\n",
    "                value = False\n",
    "            elif value == \"Ja\":\n",
    "                value = True\n",
    "            elif value == \"keine Information\":\n",
    "                value = None\n",
    "\n",
    "            if attribute in [\"Astbruchgefahr\", \"Blattform\", \"Blütenfarbe\", \"Blütenstand\", \"Bodeneigenschaft\", \"Bodenfeuchtetoleranz\", \"Bodenverdichtungstoleranz\", \"Fruchtfarbe\", \"Fruchtform\", \"Gründigkeit\", \"Herbstfärbung\", \"Herkunft\", \"Hitzeverträglichkeit\", \"Kronendurchlässigkeit\", \"Kronenform\", \"Lichtanspruch\", \"name_botanic\", \"name_trivial\", \"Natürlicher Lebensraum\", \"Salzverträglichkeit\", \"Spätfrosttoleranz\", \"Trockenheitstoleranz\", \"Wuchsform\", \"Wuchsgeschwindigkeit\", \"Wuchsrichtung\"] and type(value) == str:\n",
    "                value = value.split(\", \")\n",
    "                \n",
    "            tree_information[attribute] = value\n",
    "\n",
    "    trees.append(tree_information)"
   ]
  },
  {
   "cell_type": "markdown",
   "id": "6dd7ecbf",
   "metadata": {},
   "source": [
    "## Daten als JSON ablegen\n",
    "\n",
    "Die eingelesenen Daten wollen wir für eine mögliche Weiterverarbeitung als JSON ablegen. Hierfür können wir das erzeugte Array aus dem vorigen Schritt ablegen."
   ]
  },
  {
   "cell_type": "code",
   "execution_count": 7,
   "id": "245a5b10",
   "metadata": {},
   "outputs": [],
   "source": [
    "import json\n",
    "\n",
    "with open(\"tree-information.json\", \"w\") as f:\n",
    "    json.dump({\n",
    "        \"attributes\": attributes,\n",
    "        \"trees\": trees\n",
    "    }, f, indent=4)"
   ]
  }
 ],
 "metadata": {
  "kernelspec": {
   "display_name": "Python (preparations)",
   "language": "python",
   "name": "preparations-venv"
  },
  "language_info": {
   "codemirror_mode": {
    "name": "ipython",
    "version": 3
   },
   "file_extension": ".py",
   "mimetype": "text/x-python",
   "name": "python",
   "nbconvert_exporter": "python",
   "pygments_lexer": "ipython3",
   "version": "3.12.3"
  }
 },
 "nbformat": 4,
 "nbformat_minor": 5
}
